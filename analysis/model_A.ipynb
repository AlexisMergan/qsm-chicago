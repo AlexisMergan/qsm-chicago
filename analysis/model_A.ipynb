{
 "cells": [
  {
   "cell_type": "markdown",
   "metadata": {},
   "source": [
    "# model_A.ipynb\n",
    "Author: Connacher Murphy\n",
    "\n",
    "See documentation for a discussion of this implementation."
   ]
  },
  {
   "cell_type": "markdown",
   "metadata": {},
   "source": [
    "## 0. Libraries"
   ]
  },
  {
   "cell_type": "code",
   "execution_count": 43,
   "metadata": {},
   "outputs": [],
   "source": [
    "import numpy as np\n",
    "import pandas as pd\n",
    "import matplotlib.pyplot as plt\n",
    "import matplotlib.patches as mpatches\n",
    "import qsm_calibration as qsmc\n",
    "import qsm_solver_mA as qsmA"
   ]
  },
  {
   "cell_type": "markdown",
   "metadata": {},
   "source": [
    "## 1. Calibration\n",
    "We create the commuting flows matrix $\\mathbf{\\pi}$, where $\\pi_{i n}$ denotes the share of workers living in neighborhood $i$ commuting to neighborhood $n$."
   ]
  },
  {
   "cell_type": "code",
   "execution_count": 44,
   "metadata": {},
   "outputs": [],
   "source": [
    "(  # calibrate() returns objects needed for models A and B\n",
    "    pi,\n",
    "    pi_cond,\n",
    "    residents,\n",
    "    workers,\n",
    "    R_bar,\n",
    "    wages,\n",
    "    num_nbhd,\n",
    "    far_southeast_indices,\n",
    "    employment_core_indices,\n",
    "    neighborhoods_shp,\n",
    "    theta,\n",
    "    alpha,\n",
    "    beta,\n",
    ") = qsmc.calibrate()"
   ]
  },
  {
   "cell_type": "markdown",
   "metadata": {},
   "source": [
    "## 2. Counterfactual solver\n",
    "Following the notation in the writeup, I let $i$ correspond to the first index and $n$ to the second."
   ]
  },
  {
   "cell_type": "code",
   "execution_count": 45,
   "metadata": {},
   "outputs": [
    {
     "name": "stdout",
     "output_type": "stream",
     "text": [
      "Maximum absolute value of Z_i: 1.1102230246251565e-16\n",
      "Z nan values: 0\n"
     ]
    }
   ],
   "source": [
    "# Unit test\n",
    "# calc_Z should return all zeros if we guess the correct wage changes\n",
    "# We can set all parameter proportional changes to 1 (no changes) and check\n",
    "# that a vector of unchanged wages is an equilibrium\n",
    "w_tilde = np.ones((1, num_nbhd))  # use the second index to follow tilde(w)_n notation\n",
    "A_hat = np.ones((1, num_nbhd))\n",
    "R_hat = np.ones((num_nbhd, 1))\n",
    "kappa_hat = np.ones((num_nbhd, num_nbhd))\n",
    "\n",
    "Z = qsmA.calc_Z(w_tilde, theta, alpha, pi, residents, workers, A_hat, kappa_hat, R_hat)\n",
    "\n",
    "print(f\"Maximum absolute value of Z_i: {abs(Z).max()}\")\n",
    "print(f\"Z nan values: {np.sum(np.isnan(Z))}\")"
   ]
  },
  {
   "cell_type": "code",
   "execution_count": 46,
   "metadata": {},
   "outputs": [
    {
     "name": "stdout",
     "output_type": "stream",
     "text": [
      "Step 0 error: 0.0\n",
      "Maximum absolute value of (w_hat - 1): 0.0\n",
      "w_hat nan values: 0\n"
     ]
    }
   ],
   "source": [
    "# Run the unit test again, using the solve_counterfactual() function\n",
    "w_hat = qsmA.solve_counterfactual(\n",
    "    num_nbhd, theta, alpha, pi, residents, workers, A_hat, kappa_hat, R_hat\n",
    ")\n",
    "\n",
    "print(f\"Maximum absolute value of (w_hat - 1): {abs(w_hat - 1).max()}\")\n",
    "print(f\"w_hat nan values: {np.sum(np.isnan(w_hat))}\")"
   ]
  },
  {
   "cell_type": "markdown",
   "metadata": {},
   "source": [
    "## 3. Counterfactual exercises"
   ]
  },
  {
   "cell_type": "markdown",
   "metadata": {},
   "source": [
    "### 3.i. Local productivity shock"
   ]
  },
  {
   "cell_type": "code",
   "execution_count": 47,
   "metadata": {},
   "outputs": [
    {
     "name": "stdout",
     "output_type": "stream",
     "text": [
      "Local productivity shock in far southeast\n",
      "Step 0 error: 0.1297263219\n",
      "Step 1 error: 0.0603006826\n",
      "Step 2 error: 0.0285251139\n",
      "Step 3 error: 0.0136829422\n",
      "Step 4 error: 0.0066695423\n",
      "Step 5 error: 0.0033224206\n",
      "Step 6 error: 0.0017055958\n",
      "Step 7 error: 0.0009111593\n",
      "Step 8 error: 0.0005111351\n",
      "Step 9 error: 0.0003027803\n",
      "Step 10 error: 0.000189409\n",
      "Step 11 error: 0.0001244453\n",
      "Step 12 error: 8.51049e-05\n",
      "Step 13 error: 5.99853e-05\n",
      "Step 14 error: 4.31953e-05\n",
      "Step 15 error: 3.15603e-05\n",
      "Step 16 error: 2.32813e-05\n",
      "Step 17 error: 1.73058e-05\n",
      "Step 18 error: 1.29525e-05\n",
      "Step 19 error: 9.702e-06\n",
      "Step 20 error: 7.2711e-06\n",
      "Step 21 error: 5.4512e-06\n",
      "Step 22 error: 4.0878e-06\n",
      "Step 23 error: 3.0658e-06\n",
      "Step 24 error: 2.2996e-06\n",
      "Step 25 error: 1.725e-06\n",
      "Step 26 error: 1.2941e-06\n",
      "Step 27 error: 9.708e-07\n",
      "Step 28 error: 7.283e-07\n",
      "Step 29 error: 5.464e-07\n",
      "Step 30 error: 4.099e-07\n",
      "Step 31 error: 3.075e-07\n",
      "Step 32 error: 2.307e-07\n",
      "Step 33 error: 1.731e-07\n",
      "Step 34 error: 1.299e-07\n",
      "Step 35 error: 9.74e-08\n",
      "Step 36 error: 7.31e-08\n",
      "Step 37 error: 5.48e-08\n",
      "Step 38 error: 4.11e-08\n",
      "Step 39 error: 3.09e-08\n",
      "Step 40 error: 2.32e-08\n",
      "Step 41 error: 1.74e-08\n",
      "Step 42 error: 1.3e-08\n",
      "Step 43 error: 9.8e-09\n",
      "Step 44 error: 7.3e-09\n",
      "Step 45 error: 5.5e-09\n",
      "Step 46 error: 4.1e-09\n",
      "Step 47 error: 3.1e-09\n",
      "Step 48 error: 2.3e-09\n",
      "Step 49 error: 1.7e-09\n",
      "Step 50 error: 1.3e-09\n",
      "Step 51 error: 1e-09\n",
      "Step 52 error: 7e-10\n",
      "Step 53 error: 6e-10\n",
      "Step 54 error: 4e-10\n",
      "Step 55 error: 3e-10\n",
      "Step 56 error: 2e-10\n",
      "Step 57 error: 2e-10\n",
      "Step 58 error: 1e-10\n",
      "Step 59 error: 1e-10\n"
     ]
    }
   ],
   "source": [
    "print(\"Local productivity shock in far southeast\")\n",
    "\n",
    "A_hat[:, far_southeast_indices] = 1.05  # increase productivity by 5% in far southeast\n",
    "w_hat = qsmA.solve_counterfactual(\n",
    "    num_nbhd, theta, alpha, pi, residents, workers, A_hat, kappa_hat, R_hat\n",
    ")\n",
    "\n",
    "productivity_shock_shp = qsmA.summarize_counterfactual(\n",
    "    num_nbhd, neighborhoods_shp, w_hat\n",
    ")"
   ]
  },
  {
   "cell_type": "markdown",
   "metadata": {},
   "source": [
    "### 3.ii. Employment core transportation shock"
   ]
  },
  {
   "cell_type": "code",
   "execution_count": 48,
   "metadata": {},
   "outputs": [
    {
     "name": "stdout",
     "output_type": "stream",
     "text": [
      "Step 0 error: 0.0495757552\n",
      "Step 1 error: 0.0245300949\n",
      "Step 2 error: 0.0121813999\n",
      "Step 3 error: 0.006059862\n",
      "Step 4 error: 0.0030174599\n",
      "Step 5 error: 0.0015034772\n",
      "Step 6 error: 0.0007495687\n",
      "Step 7 error: 0.0003739799\n",
      "Step 8 error: 0.0001867853\n",
      "Step 9 error: 9.34358e-05\n",
      "Step 10 error: 4.68481e-05\n",
      "Step 11 error: 2.35703e-05\n",
      "Step 12 error: 1.1919e-05\n",
      "Step 13 error: 6.0719e-06\n",
      "Step 14 error: 3.1261e-06\n",
      "Step 15 error: 1.6336e-06\n",
      "Step 16 error: 8.711e-07\n",
      "Step 17 error: 4.77e-07\n",
      "Step 18 error: 2.699e-07\n",
      "Step 19 error: 1.587e-07\n",
      "Step 20 error: 9.72e-08\n",
      "Step 21 error: 6.2e-08\n",
      "Step 22 error: 4.11e-08\n",
      "Step 23 error: 2.81e-08\n",
      "Step 24 error: 1.98e-08\n",
      "Step 25 error: 1.41e-08\n",
      "Step 26 error: 1.03e-08\n",
      "Step 27 error: 7.5e-09\n",
      "Step 28 error: 5.6e-09\n",
      "Step 29 error: 4.1e-09\n",
      "Step 30 error: 3.1e-09\n",
      "Step 31 error: 2.3e-09\n",
      "Step 32 error: 1.7e-09\n",
      "Step 33 error: 1.3e-09\n",
      "Step 34 error: 1e-09\n",
      "Step 35 error: 7e-10\n",
      "Step 36 error: 5e-10\n",
      "Step 37 error: 4e-10\n",
      "Step 38 error: 3e-10\n",
      "Step 39 error: 2e-10\n",
      "Step 40 error: 2e-10\n",
      "Step 41 error: 1e-10\n",
      "Step 42 error: 1e-10\n"
     ]
    }
   ],
   "source": [
    "# Reset A_hat\n",
    "A_hat = np.ones((1, num_nbhd))\n",
    "\n",
    "# Reduce travel costs from far Southeast to employment core by 5%\n",
    "kappa_hat[far_southeast_indices.reshape(-1, 1), employment_core_indices] = 0.95\n",
    "\n",
    "w_hat = qsmA.solve_counterfactual(\n",
    "    num_nbhd, theta, alpha, pi, residents, workers, A_hat, kappa_hat, R_hat\n",
    ")\n",
    "transport_shock_shp = qsmA.summarize_counterfactual(\n",
    "    num_nbhd, neighborhoods_shp, w_hat\n",
    ")"
   ]
  },
  {
   "cell_type": "markdown",
   "metadata": {},
   "source": [
    "## 4. Summary"
   ]
  },
  {
   "cell_type": "markdown",
   "metadata": {},
   "source": [
    "## 4.i. Shock locations"
   ]
  },
  {
   "cell_type": "code",
   "execution_count": 49,
   "metadata": {},
   "outputs": [
    {
     "data": {
      "image/png": "[encoded data removed]",
      "text/plain": [
       "<Figure size 640x480 with 1 Axes>"
      ]
     },
     "metadata": {},
     "output_type": "display_data"
    }
   ],
   "source": [
    "fig, ax = plt.subplots()\n",
    "\n",
    "neighborhoods_shp.plot(\n",
    "    facecolor=\"none\", edgecolor=\"lightslategray\", linewidth=0.5, ax=ax\n",
    ")\n",
    "\n",
    "neighborhoods_shp[neighborhoods_shp[\"far_southeast\"] == 1].plot(\n",
    "    label=\"Far Southeast\",\n",
    "    legend=True,\n",
    "    facecolor=\"tab:blue\",\n",
    "    edgecolor=\"lightslategray\",\n",
    "    linewidth=0.5,\n",
    "    ax=ax,\n",
    ")\n",
    "\n",
    "neighborhoods_shp[neighborhoods_shp[\"employment_core\"] == 1].plot(\n",
    "    label=\"Employment Core\",\n",
    "    legend=True,\n",
    "    facecolor=\"tab:orange\",\n",
    "    edgecolor=\"lightslategray\",\n",
    "    linewidth=0.5,\n",
    "    ax=ax,\n",
    ")\n",
    "\n",
    "# Create legend patches\n",
    "patch1 = mpatches.Patch(color=\"tab:blue\", label=\"Far Southeast\")\n",
    "patch2 = mpatches.Patch(color=\"tab:orange\", label=\"Employment Core\")\n",
    "\n",
    "# Add legend to the plot\n",
    "plt.legend(handles=[patch1, patch2], loc=\"lower left\")\n",
    "\n",
    "# Finaly styling\n",
    "plt.xticks([])\n",
    "plt.yticks([])\n",
    "plt.tight_layout(pad=0)\n",
    "plt.savefig(\"../out/shock_map.png\", bbox_inches=\"tight\")\n",
    "plt.show()"
   ]
  },
  {
   "cell_type": "code",
   "execution_count": 50,
   "metadata": {},
   "outputs": [],
   "source": [
    "# Plot the shock (A_hat)\n",
    "# productivity_shock_shp.plot(\n",
    "#     column=\"A_hat\",\n",
    "#     legend=True,\n",
    "#     edgecolor=\"lightslategray\",\n",
    "#     linewidth=0.5,\n",
    "#     cmap=\"inferno\",\n",
    "# )\n",
    "# plt.xticks([])\n",
    "# plt.yticks([])\n",
    "# plt.tight_layout(pad=0)\n",
    "# plt.savefig(\"../out/prod.png\", bbox_inches=\"tight\")\n",
    "# plt.show()"
   ]
  },
  {
   "cell_type": "code",
   "execution_count": 51,
   "metadata": {},
   "outputs": [],
   "source": [
    "# # Onto the endogenous variables\n",
    "# # w_hat (all neighborhoods)\n",
    "# productivity_shock_shp.plot(\n",
    "#     column=\"w_hat\",\n",
    "#     legend=True,\n",
    "#     edgecolor=\"lightslategray\",\n",
    "#     linewidth=0.5,\n",
    "#     vmin=1.000,\n",
    "#     vmax=1.025,\n",
    "#     cmap=\"inferno\",\n",
    "# )\n",
    "# plt.xticks([])\n",
    "# plt.yticks([])\n",
    "# plt.title(\"Model A\")\n",
    "# plt.tight_layout(pad=0)\n",
    "# plt.savefig(\"../out/prod_mA_w_hat_all.png\", bbox_inches=\"tight\")\n",
    "# plt.show()\n",
    "\n",
    "# # w_hat (exclude far southeast)\n",
    "# fig, ax = plt.subplots()\n",
    "\n",
    "# # Full boundaries\n",
    "# productivity_shock_shp.plot(\n",
    "#     facecolor=\"none\", edgecolor=\"lightslategray\", linewidth=0.5, ax=ax\n",
    "# )\n",
    "# productivity_shock_shp[productivity_shock_shp[\"far_southeast\"] == 0].plot(\n",
    "#     column=\"w_hat\",\n",
    "#     legend=True,\n",
    "#     edgecolor=\"lightslategray\",\n",
    "#     linewidth=0.5,\n",
    "#     ax=ax,\n",
    "#     vmin=1.0003,\n",
    "#     vmax=1.0011,\n",
    "#     cmap=\"inferno\",\n",
    "# )\n",
    "# plt.xticks([])\n",
    "# plt.yticks([])\n",
    "# plt.title(\"Model A\")\n",
    "# plt.tight_layout(pad=0)\n",
    "# plt.savefig(\"../out/prod_mA_w_hat_excl.png\", bbox_inches=\"tight\")\n",
    "# plt.show()\n",
    "\n",
    "# # w_hat (only far southeast)\n",
    "# productivity_shock_shp[productivity_shock_shp['far_southeast'] == 1].plot(\n",
    "#     column=\"w_hat\",\n",
    "#     legend=True,\n",
    "#     edgecolor=\"lightslategray\",\n",
    "#     linewidth=0.5,\n",
    "#     vmin=1.023,\n",
    "#     vmax=1.025,\n",
    "#     cmap=\"inferno\",\n",
    "# )\n",
    "# plt.xticks([])\n",
    "# plt.yticks([])\n",
    "# plt.title(\"Model A\")\n",
    "# plt.tight_layout(pad=0)\n",
    "# plt.savefig(\"../out/prod_mA_w_hat_fse.png\", bbox_inches=\"tight\")\n",
    "# plt.show()"
   ]
  },
  {
   "cell_type": "code",
   "execution_count": 52,
   "metadata": {},
   "outputs": [],
   "source": [
    "# # Plot the shock (kappa_hat)\n",
    "# fig, ax = plt.subplots()\n",
    "\n",
    "# transport_shock_shp.plot(\n",
    "#     column=\"kappa_hat\",\n",
    "#     legend=True,\n",
    "#     edgecolor=\"lightslategray\",\n",
    "#     linewidth=0.5,\n",
    "#     cmap=\"inferno\",\n",
    "#     ax=ax,\n",
    "# )\n",
    "# transport_shock_shp[transport_shock_shp[\"far_southeast\"] == 1].plot(\n",
    "#     facecolor=\"none\", edgecolor=\"black\", linewidth=0.5, ax=ax\n",
    "# )\n",
    "\n",
    "# plt.xticks([])\n",
    "# plt.yticks([])\n",
    "# plt.tight_layout(pad=0)\n",
    "# plt.savefig(\"../out/trans.png\", bbox_inches=\"tight\")\n",
    "# plt.show()"
   ]
  },
  {
   "cell_type": "code",
   "execution_count": 53,
   "metadata": {},
   "outputs": [],
   "source": [
    "# # Onto the endogenous variables\n",
    "# # w_hat (all neighborhoods)\n",
    "# transport_shock_shp.plot(\n",
    "#     column=\"w_hat\",\n",
    "#     legend=True,\n",
    "#     edgecolor=\"lightslategray\",\n",
    "#     linewidth=0.5,\n",
    "#     vmin=0.999,\n",
    "#     vmax=1.010,\n",
    "#     cmap=\"inferno\",\n",
    "# )\n",
    "# plt.xticks([])\n",
    "# plt.yticks([])\n",
    "# plt.title(\"Model A\")\n",
    "# plt.tight_layout(pad=0)\n",
    "# plt.savefig(\"../out/trans_mA_w_hat_all.png\", bbox_inches=\"tight\")\n",
    "# plt.show()\n",
    "\n",
    "# # w_hat (exclude far southeast)\n",
    "# fig, ax = plt.subplots()\n",
    "\n",
    "# # Full boundaries\n",
    "# transport_shock_shp.plot(\n",
    "#     facecolor=\"none\", edgecolor=\"lightslategray\", linewidth=0.5, ax=ax\n",
    "# )\n",
    "# transport_shock_shp[transport_shock_shp[\"far_southeast\"] == 0].plot(\n",
    "#     column=\"w_hat\",\n",
    "#     legend=True,\n",
    "#     edgecolor=\"lightslategray\",\n",
    "#     linewidth=0.5,\n",
    "#     ax=ax,\n",
    "#     vmin=0.999,\n",
    "#     vmax=1.004,\n",
    "#     cmap=\"inferno\",\n",
    "# )\n",
    "# plt.xticks([])\n",
    "# plt.yticks([])\n",
    "# plt.title(\"Model A\")\n",
    "# plt.tight_layout(pad=0)\n",
    "# plt.savefig(\"../out/trans_mA_w_hat_excl.png\", bbox_inches=\"tight\")\n",
    "# plt.show()\n",
    "\n",
    "# # w_hat (only far southeast)\n",
    "# transport_shock_shp[transport_shock_shp['far_southeast'] == 1].plot(\n",
    "#     column=\"w_hat\",\n",
    "#     legend=True,\n",
    "#     edgecolor=\"lightslategray\",\n",
    "#     linewidth=0.5,\n",
    "#     vmin=1.003,\n",
    "#     vmax=1.010,\n",
    "#     cmap=\"inferno\",\n",
    "# )\n",
    "# plt.xticks([])\n",
    "# plt.yticks([])\n",
    "# plt.title(\"Model A\")\n",
    "# plt.tight_layout(pad=0)\n",
    "# plt.savefig(\"../out/trans_mA_w_hat_fse.png\", bbox_inches=\"tight\")\n",
    "# plt.show()\n",
    "\n",
    "# # w_hat (only employment core)\n",
    "# transport_shock_shp[transport_shock_shp['employment_core'] == 1].plot(\n",
    "#     column=\"w_hat\",\n",
    "#     legend=True,\n",
    "#     edgecolor=\"lightslategray\",\n",
    "#     linewidth=0.5,\n",
    "#     vmin=0.9991,\n",
    "#     vmax=0.9994,\n",
    "#     cmap=\"inferno\",\n",
    "# )\n",
    "# plt.xticks([])\n",
    "# plt.yticks([])\n",
    "# plt.title(\"Model A\")\n",
    "# plt.tight_layout(pad=0)\n",
    "# plt.savefig(\"../out/trans_mA_w_hat_core.png\", bbox_inches=\"tight\")\n",
    "# plt.show()"
   ]
  },
  {
   "cell_type": "code",
   "execution_count": null,
   "metadata": {},
   "outputs": [],
   "source": []
  }
 ],
 "metadata": {
  "kernelspec": {
   "display_name": "school-python-env-2s7K_7u_",
   "language": "python",
   "name": "python3"
  },
  "language_info": {
   "codemirror_mode": {
    "name": "ipython",
    "version": 3
   },
   "file_extension": ".py",
   "mimetype": "text/x-python",
   "name": "python",
   "nbconvert_exporter": "python",
   "pygments_lexer": "ipython3",
   "version": "3.11.4"
  }
 },
 "nbformat": 4,
 "nbformat_minor": 2
}
