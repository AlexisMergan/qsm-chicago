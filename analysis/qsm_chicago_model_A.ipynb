{
 "cells": [
  {
   "cell_type": "markdown",
   "metadata": {},
   "source": [
    "# qsm-chicago_model_A.ipynb\n",
    "Author: Connacher Murphy"
   ]
  },
  {
   "cell_type": "markdown",
   "metadata": {},
   "source": [
    "### 0. Libraries"
   ]
  },
  {
   "cell_type": "code",
   "execution_count": 61,
   "metadata": {},
   "outputs": [],
   "source": [
    "import numpy as np\n",
    "import pandas as pd"
   ]
  },
  {
   "cell_type": "markdown",
   "metadata": {},
   "source": [
    "### 1. Calibration\n",
    "We create the commuting flows matrix $\\mathbf{\\pi}$, where $\\pi_{i n}$ denotes the share of workers living in neighborhood $i$ commuting to neighborhood $n$."
   ]
  },
  {
   "cell_type": "code",
   "execution_count": 62,
   "metadata": {},
   "outputs": [],
   "source": [
    "# Read commuting flows from csv\n",
    "flows_pd = pd.read_csv('../data/chi_flows_nbhd_matrix.csv')\n",
    "\n",
    "# Convert to numpy array\n",
    "flows = flows_pd.values[:, 1:]\n",
    "\n",
    "K = flows.shape[0] # number of neighborhoods\n",
    "\n",
    "# Calculate population by workplace and residence\n",
    "H = np.sum(flows, axis = 1, keepdims=True) # residence\n",
    "L = np.sum(flows, axis = 0, keepdims=True) # workplace\n",
    "\n",
    "# Normalize by residential population to get conditional commuting probabilities\n",
    "pi = flows / H"
   ]
  },
  {
   "cell_type": "code",
   "execution_count": 63,
   "metadata": {},
   "outputs": [],
   "source": [
    "theta = 3.0\n",
    "alpha = 0.6"
   ]
  },
  {
   "cell_type": "markdown",
   "metadata": {},
   "source": [
    "### 2. Counterfactual solver"
   ]
  },
  {
   "cell_type": "code",
   "execution_count": 67,
   "metadata": {},
   "outputs": [],
   "source": [
    "# Define component functions for counterfactual solver\n",
    "def cal_Z(w_tilde, theta, alpha, pi_init, A_hat):\n",
    "    \"\"\"\n",
    "    Calculate calligraphic Z for candidate wage changes\n",
    "    Arguments:\n",
    "        w_tilde: candidate wage changes\n",
    "\n",
    "        theta: preference shock dispersion parameter\n",
    "        alpha: elasticity of output with respect to labor\n",
    "        pi_init: initial commuting probabilities\n",
    "        \n",
    "        A_hat:\n",
    "    \"\"\"\n",
    "    demand_term = np.power(\n",
    "        alpha * A_hat / w_tilde,\n",
    "        1 / (1 - alpha)\n",
    "    )\n",
    "\n",
    "    print(demand_term.shape)"
   ]
  },
  {
   "cell_type": "code",
   "execution_count": 65,
   "metadata": {},
   "outputs": [
    {
     "name": "stdout",
     "output_type": "stream",
     "text": [
      "(77, 1)\n"
     ]
    }
   ],
   "source": [
    "# Unit test\n",
    "w_tilde = np.ones(K).reshape(K, 1)\n",
    "\n",
    "A_hat = np.ones(K).reshape(K, 1)\n",
    "\n",
    "cal_Z(w_tilde, theta, alpha, pi, A_hat)"
   ]
  },
  {
   "cell_type": "code",
   "execution_count": null,
   "metadata": {},
   "outputs": [],
   "source": []
  },
  {
   "cell_type": "code",
   "execution_count": null,
   "metadata": {},
   "outputs": [],
   "source": []
  },
  {
   "cell_type": "code",
   "execution_count": null,
   "metadata": {},
   "outputs": [],
   "source": []
  }
 ],
 "metadata": {
  "kernelspec": {
   "display_name": "school-python-env-2s7K_7u_",
   "language": "python",
   "name": "python3"
  },
  "language_info": {
   "codemirror_mode": {
    "name": "ipython",
    "version": 3
   },
   "file_extension": ".py",
   "mimetype": "text/x-python",
   "name": "python",
   "nbconvert_exporter": "python",
   "pygments_lexer": "ipython3",
   "version": "3.11.4"
  }
 },
 "nbformat": 4,
 "nbformat_minor": 2
}
